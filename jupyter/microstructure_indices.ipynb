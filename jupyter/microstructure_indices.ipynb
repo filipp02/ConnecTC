{
 "cells": [
  {
   "cell_type": "code",
   "execution_count": 3,
   "metadata": {},
   "outputs": [],
   "source": [
    "from dipy.reconst import mapmri\n",
    "from dipy.data import fetch_cfin_multib, read_cfin_dwi, get_sphere\n",
    "from dipy.core.gradients import gradient_table\n",
    "from dipy.io import read_bvals_bvecs\n",
    "\n",
    "import matplotlib.pyplot as plt\n",
    "import numpy as np\n",
    "import nibabel as nib\n",
    "import os\n",
    "\n",
    "from mpl_toolkits.axes_grid1 import make_axes_locatable"
   ]
  },
  {
   "cell_type": "code",
   "execution_count": 4,
   "metadata": {},
   "outputs": [],
   "source": [
    "dwi_big_delta = 0.0334 # scanner default\n",
    "dwi_small_delta = 0.0322 # scanner default\n",
    "\n",
    "#dwi_big_delta = 0.045  # desired\n"
   ]
  },
  {
   "cell_type": "code",
   "execution_count": 5,
   "metadata": {},
   "outputs": [],
   "source": [
    "data_dir = \"/user/pfilipia/home/inria/chu_nice_inria/patients_dmri\"\n",
    "\n",
    "def get_patient_dir(patient_id):\n",
    "    return os.path.join(\n",
    "        data_dir, \"patient%02d/bids/sub-patient%02d/ses-presurgical\" % (patient_id, patient_id)\n",
    "    )\n",
    "\n",
    "def get_dwi_file(patient_id):\n",
    "    return os.path.join(\n",
    "        get_patient_dir(patient_id), \"proc/sub-patient%02d_ses-presurgical_dwi.nii.gz\" % patient_id\n",
    "    )\n",
    "\n",
    "def get_bval_file(patient_id):\n",
    "    return os.path.join(\n",
    "        get_patient_dir(patient_id), \"proc/sub-patient%02d_ses-presurgical_dwi.bval\" % patient_id\n",
    "    )\n",
    "\n",
    "def get_bvec_file(patient_id):\n",
    "    return os.path.join(\n",
    "        get_patient_dir(patient_id), \"proc/sub-patient%02d_ses-presurgical_dwi.bvec\" % patient_id\n",
    "    )\n",
    "\n",
    "def get_mask_file(patient_id):\n",
    "    return os.path.join(\n",
    "        get_patient_dir(patient_id), \"connectivity/tck_streamlines/roi_mask.nii.gz\"\n",
    "    )\n",
    "\n",
    "def get_stimulation_site_mask_file(patient_id, stimulation_site):\n",
    "    return os.path.join(\n",
    "        get_patient_dir(patient_id), \"connectivity/streamlines/seed_mask_s%02d_in00.nii\" % stimulation_site\n",
    "    )\n",
    "\n",
    "def get_microstructure_indices_dir(patient_id):\n",
    "    indices_dir = os.path.join(\n",
    "        get_patient_dir(patient_id), \"connectivity/tck_streamlines/indices\"\n",
    "    )\n",
    "    if not os.path.isdir(indices_dir):\n",
    "        os.mkdir(indices_dir)\n",
    "    return indices_dir\n",
    "\n",
    "def get_microstructure_index_file(patient_id, index_name):\n",
    "    return os.path.join(\n",
    "        get_microstructure_indices_dir(patient_id), \"patient%02d_roi_%s.nii.gz\" % (patient_id, index_name)\n",
    "    )\n",
    "\n",
    "def get_stimulation_site_microstructure_index_file(patient_id, stimulation_site, index_name):\n",
    "    return os.path.join(\n",
    "        get_microstructure_indices_dir(patient_id), \n",
    "        \"patient%02d_s%02d_%s.nii.gz\" % (patient_id, stimulation_site, index_name)\n",
    "    )\n"
   ]
  },
  {
   "cell_type": "code",
   "execution_count": 6,
   "metadata": {},
   "outputs": [],
   "source": [
    "def compute_indices(patient_id):\n",
    "\n",
    "    dwi_img = nib.load(get_dwi_file(patient_id))\n",
    "    dwi_data = dwi_img.get_data()\n",
    "\n",
    "    mask_img = nib.load(get_mask_file(patient_id))\n",
    "    mask_data = mask_img.get_data()\n",
    "\n",
    "    bvals, bvecs = read_bvals_bvecs(get_bval_file(patient_id), get_bvec_file(patient_id))\n",
    "    dwi_gtab = gradient_table(bvals, bvecs, big_delta=dwi_big_delta, small_delta=dwi_small_delta)\n",
    "\n",
    "    radial_order = 6\n",
    "    map_model_laplacian_aniso = mapmri.MapmriModel(\n",
    "        dwi_gtab, radial_order=radial_order,\n",
    "        laplacian_regularization=True, laplacian_weighting=.2,\n",
    "        bval_threshold=2000\n",
    "    )\n",
    "\n",
    "    mapfit_laplacian_aniso = map_model_laplacian_aniso.fit(dwi_data, mask=mask_data)\n",
    "\n",
    "    microstructure_indices = {\n",
    "        'rtop'   : np.array(mapfit_laplacian_aniso.rtop(), dtype=float),\n",
    "        'rtap'   : np.array(mapfit_laplacian_aniso.rtap(), dtype=float),\n",
    "        'rtpp'   : np.array(mapfit_laplacian_aniso.rtpp(), dtype=float),\n",
    "        'msd'    : np.array(mapfit_laplacian_aniso.msd(), dtype=float),\n",
    "        'qiv'    : np.array(mapfit_laplacian_aniso.qiv(), dtype=float),\n",
    "        'ng'     : np.array(mapfit_laplacian_aniso.ng(), dtype=float),\n",
    "        'ng_perp': np.array(mapfit_laplacian_aniso.ng_perpendicular(), dtype=float),\n",
    "        'ng_par' : np.array(mapfit_laplacian_aniso.ng_parallel(), dtype=float)\n",
    "    }\n",
    "\n",
    "    for idx in microstructure_indices:\n",
    "        idx_img = nib.Nifti1Image(microstructure_indices[idx], dwi_img.affine, dwi_img.header)\n",
    "        nib.save(idx_img, get_microstructure_index_file(patient_id, idx))\n"
   ]
  },
  {
   "cell_type": "code",
   "execution_count": 7,
   "metadata": {},
   "outputs": [],
   "source": [
    "def compute_stimulation_site_indices(patient_id, stimulation_site):\n",
    "\n",
    "    dwi_img = nib.load(get_dwi_file(patient_id))\n",
    "    dwi_data = dwi_img.get_data()\n",
    "\n",
    "    mask_img = nib.load(get_stimulation_site_mask_file(patient_id, stimulation_site))\n",
    "    mask_data = mask_img.get_data()\n",
    "\n",
    "    bvals, bvecs = read_bvals_bvecs(get_bval_file(patient_id), get_bvec_file(patient_id))\n",
    "    dwi_gtab = gradient_table(bvals, bvecs, big_delta=dwi_big_delta, small_delta=dwi_small_delta)\n",
    "\n",
    "    radial_order = 6\n",
    "    map_model_laplacian_aniso = mapmri.MapmriModel(\n",
    "        dwi_gtab, radial_order=radial_order,\n",
    "        laplacian_regularization=True, laplacian_weighting=.2,\n",
    "        bval_threshold=2000\n",
    "    )\n",
    "\n",
    "    mapfit_laplacian_aniso = map_model_laplacian_aniso.fit(dwi_data, mask=mask_data)\n",
    "\n",
    "    microstructure_indices = {\n",
    "        'rtop'   : np.array(mapfit_laplacian_aniso.rtop(), dtype=float),\n",
    "        'rtap'   : np.array(mapfit_laplacian_aniso.rtap(), dtype=float),\n",
    "        'rtpp'   : np.array(mapfit_laplacian_aniso.rtpp(), dtype=float),\n",
    "        'msd'    : np.array(mapfit_laplacian_aniso.msd(), dtype=float),\n",
    "        'qiv'    : np.array(mapfit_laplacian_aniso.qiv(), dtype=float),\n",
    "        'ng'     : np.array(mapfit_laplacian_aniso.ng(), dtype=float),\n",
    "        'ng_perp': np.array(mapfit_laplacian_aniso.ng_perpendicular(), dtype=float),\n",
    "        'ng_par' : np.array(mapfit_laplacian_aniso.ng_parallel(), dtype=float)\n",
    "    }\n",
    "\n",
    "    for idx in microstructure_indices:\n",
    "        idx_img = nib.Nifti1Image(microstructure_indices[idx], dwi_img.affine, dwi_img.header)\n",
    "        nib.save(idx_img, get_stimulation_site_microstructure_index_file(patient_id, stimulation_site, idx))\n"
   ]
  },
  {
   "cell_type": "raw",
   "metadata": {},
   "source": [
    "for patient_id in [11]:\n",
    "    print(\"PATIENT_ID:\", patient_id)\n",
    "    compute_indices(patient_id)\n",
    "    "
   ]
  },
  {
   "cell_type": "code",
   "execution_count": null,
   "metadata": {},
   "outputs": [],
   "source": []
  },
  {
   "cell_type": "code",
   "execution_count": null,
   "metadata": {},
   "outputs": [],
   "source": []
  },
  {
   "cell_type": "code",
   "execution_count": null,
   "metadata": {},
   "outputs": [
    {
     "name": "stdout",
     "output_type": "stream",
     "text": [
      "PATIENT_ID: 4\n",
      "STIMULATION_SITE: 0\n",
      "STIMULATION_SITE: 1\n",
      "STIMULATION_SITE: 2\n",
      "STIMULATION_SITE: 3\n",
      "STIMULATION_SITE: 4\n",
      "STIMULATION_SITE: 5\n",
      "STIMULATION_SITE: 6\n",
      "STIMULATION_SITE: 7\n",
      "STIMULATION_SITE: 8\n",
      "STIMULATION_SITE: 9\n",
      "STIMULATION_SITE: 10\n",
      "STIMULATION_SITE: 11\n",
      "STIMULATION_SITE: 12\n",
      "STIMULATION_SITE: 13\n",
      "STIMULATION_SITE: 14\n",
      "Exception.\n",
      "PATIENT_ID: 7\n",
      "STIMULATION_SITE: 0\n"
     ]
    }
   ],
   "source": [
    "for patient_id in [4, 7, 10, 11, 12]:\n",
    "    print(\"PATIENT_ID:\", patient_id)\n",
    "    for stimulation_site in [0, 1, 2, 3, 4, 5, 6, 7, 8, 9, 10, 11, 12, 13, 14]:\n",
    "        print(\"STIMULATION_SITE:\", stimulation_site)\n",
    "        try:\n",
    "            compute_stimulation_site_indices(patient_id, stimulation_site)\n",
    "        except:\n",
    "            print(\"Exception.\")"
   ]
  },
  {
   "cell_type": "code",
   "execution_count": null,
   "metadata": {},
   "outputs": [],
   "source": []
  },
  {
   "cell_type": "code",
   "execution_count": null,
   "metadata": {},
   "outputs": [],
   "source": []
  },
  {
   "cell_type": "code",
   "execution_count": null,
   "metadata": {},
   "outputs": [],
   "source": []
  },
  {
   "cell_type": "code",
   "execution_count": null,
   "metadata": {},
   "outputs": [],
   "source": []
  },
  {
   "cell_type": "code",
   "execution_count": null,
   "metadata": {},
   "outputs": [],
   "source": []
  },
  {
   "cell_type": "code",
   "execution_count": null,
   "metadata": {},
   "outputs": [],
   "source": []
  },
  {
   "cell_type": "code",
   "execution_count": 4,
   "metadata": {},
   "outputs": [],
   "source": [
    "dwi_img = nib.load(get_dwi_file(patient_id))\n",
    "dwi_data = dwi_img.get_data()\n"
   ]
  },
  {
   "cell_type": "code",
   "execution_count": 5,
   "metadata": {},
   "outputs": [],
   "source": [
    "mask_img = nib.load(get_mask_file(patient_id))\n",
    "mask_data = mask_img.get_data()\n"
   ]
  },
  {
   "cell_type": "code",
   "execution_count": 6,
   "metadata": {},
   "outputs": [],
   "source": [
    "bvals, bvecs = read_bvals_bvecs(get_bval_file(patient_id), get_bvec_file(patient_id))\n",
    "dwi_gtab = gradient_table(bvals, bvecs, big_delta=dwi_big_delta, small_delta=dwi_small_delta)\n"
   ]
  },
  {
   "cell_type": "code",
   "execution_count": null,
   "metadata": {
    "collapsed": true
   },
   "outputs": [],
   "source": [
    "radial_order = 6\n",
    "map_model_laplacian_aniso = mapmri.MapmriModel(\n",
    "    dwi_gtab, radial_order=radial_order,\n",
    "    laplacian_regularization=True, laplacian_weighting=.2,\n",
    "    bval_threshold=2000\n",
    ")"
   ]
  },
  {
   "cell_type": "code",
   "execution_count": null,
   "metadata": {},
   "outputs": [],
   "source": [
    "mapfit_laplacian_aniso = map_model_laplacian_aniso.fit(dwi_data, mask=mask_data)"
   ]
  },
  {
   "cell_type": "code",
   "execution_count": null,
   "metadata": {},
   "outputs": [],
   "source": [
    "microstructure_indices = {\n",
    "    'rtop'   : np.array(mapfit_laplacian_aniso.rtop(), dtype=float),\n",
    "    'rtap'   : np.array(mapfit_laplacian_aniso.rtap(), dtype=float),\n",
    "    'rtpp'   : np.array(mapfit_laplacian_aniso.rtpp(), dtype=float),\n",
    "    'msd'    : np.array(mapfit_laplacian_aniso.msd(), dtype=float),\n",
    "    'qiv'    : np.array(mapfit_laplacian_aniso.qiv(), dtype=float),\n",
    "    'ng'     : np.array(mapfit_laplacian_aniso.ng(), dtype=float),\n",
    "    'ng_perp': np.array(mapfit_laplacian_aniso.ng_perpendicular(), dtype=float),\n",
    "    'ng_par' : np.array(mapfit_laplacian_aniso.ng_parallel(), dtype=float)\n",
    "}"
   ]
  },
  {
   "cell_type": "code",
   "execution_count": null,
   "metadata": {},
   "outputs": [],
   "source": [
    "for idx in microstructure_indices:\n",
    "    idx_img = nib.Nifti1Image(microstructure_indices[idx], dwi_img.affine, dwi_img.header)\n",
    "    nib.save(idx_img, get_microstructure_index_file(patient_id, idx))\n"
   ]
  },
  {
   "cell_type": "code",
   "execution_count": null,
   "metadata": {
    "collapsed": true
   },
   "outputs": [],
   "source": []
  },
  {
   "cell_type": "code",
   "execution_count": null,
   "metadata": {},
   "outputs": [],
   "source": []
  }
 ],
 "metadata": {
  "anaconda-cloud": {},
  "kernelspec": {
   "display_name": "Python 3",
   "language": "python",
   "name": "python3"
  },
  "language_info": {
   "codemirror_mode": {
    "name": "ipython",
    "version": 3
   },
   "file_extension": ".py",
   "mimetype": "text/x-python",
   "name": "python",
   "nbconvert_exporter": "python",
   "pygments_lexer": "ipython3",
   "version": "3.7.3"
  }
 },
 "nbformat": 4,
 "nbformat_minor": 1
}
