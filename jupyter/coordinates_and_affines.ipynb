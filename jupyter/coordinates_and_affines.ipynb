{
 "cells": [
  {
   "cell_type": "code",
   "execution_count": 1,
   "metadata": {},
   "outputs": [],
   "source": [
    "import numpy as np\n",
    "import nibabel as nib\n",
    "import pandas as pd\n",
    "import os\n",
    "\n",
    "from nibabel.affines import apply_affine\n",
    "from nibabel.freesurfer.io import read_geometry"
   ]
  },
  {
   "cell_type": "code",
   "execution_count": 2,
   "metadata": {},
   "outputs": [],
   "source": [
    "def find_nearest_vertices(rois_file, t1_file, surf_file):\n",
    "\n",
    "    result = []\n",
    "    \n",
    "    rois_pd = pd.read_csv(rois_file)\n",
    "    cols = ['ras_x', 'ras_y', 'ras_z']\n",
    "\n",
    "    t1_mgz = nib.load(t1_file)\n",
    "    ras2ras_tkr = np.matmul(\n",
    "        t1_mgz.header.get_vox2ras_tkr(), \n",
    "        np.linalg.inv(t1_mgz.affine)\n",
    "    )\n",
    "\n",
    "    surf = read_geometry(surf_file)\n",
    "\n",
    "    for data_record in rois_pd[cols].iterrows():\n",
    "\n",
    "        tkr_coords = apply_affine(\n",
    "            ras2ras_tkr, \n",
    "            [data_record[1]['ras_x'], data_record[1]['ras_y'], data_record[1]['ras_z']]\n",
    "        )\n",
    "\n",
    "        result.append(np.argmin(np.sum((surf[0] - tkr_coords) ** 2, axis=1)))\n",
    "        \n",
    "    return result\n"
   ]
  },
  {
   "cell_type": "code",
   "execution_count": 3,
   "metadata": {},
   "outputs": [],
   "source": [
    "def show_nearest_vertices(patient_id, hemisphere):\n",
    "\n",
    "    study_path = \"/user/pfilipia/home/inria/chu_nice_inria/patients_dmri\"\n",
    "\n",
    "    patient_path = os.path.join(\n",
    "        study_path, \n",
    "        \"patient%02d/bids/sub-patient%02d/ses-presurgical\" % (patient_id, patient_id)\n",
    "    )\n",
    "\n",
    "    smoothwm_vertices = find_nearest_vertices(\n",
    "        os.path.join(patient_path, \"connectivity\", \"rois.csv\"),\n",
    "        os.path.join(patient_path, \"freesurfer/mri\", \"T1.mgz\"),\n",
    "        os.path.join(patient_path, \"freesurfer/surf\", \"%s.smoothwm\" % hemisphere)\n",
    "    )\n",
    "\n",
    "    pial_vertices = find_nearest_vertices(\n",
    "        os.path.join(patient_path, \"connectivity\", \"rois.csv\"),\n",
    "        os.path.join(patient_path, \"freesurfer/mri\", \"T1.mgz\"),\n",
    "        os.path.join(patient_path, \"freesurfer/surf\", \"%s.pial\" % hemisphere)\n",
    "    )\n",
    "\n",
    "    print(\"smoothwm_vertex\\tpial_vertex\")\n",
    "    for i in range(len(smoothwm_vertices)):\n",
    "        print(\"%d\\t%d\" % (smoothwm_vertices[i], pial_vertices[i]))\n"
   ]
  },
  {
   "cell_type": "markdown",
   "metadata": {},
   "source": [
    "# Patient #1"
   ]
  },
  {
   "cell_type": "code",
   "execution_count": 4,
   "metadata": {
    "scrolled": false
   },
   "outputs": [
    {
     "name": "stdout",
     "output_type": "stream",
     "text": [
      "smoothwm_vertex\tpial_vertex\n",
      "39969\t38791\n",
      "153379\t43320\n",
      "44350\t45522\n",
      "43104\t44249\n",
      "51295\t154048\n",
      "53324\t54465\n",
      "53238\t53238\n",
      "54255\t54241\n",
      "117990\t117990\n",
      "110142\t109051\n",
      "101445\t99122\n",
      "91606\t91604\n",
      "81963\t81971\n",
      "70194\t69122\n",
      "34311\t34298\n",
      "33029\t34147\n",
      "34953\t34971\n",
      "61821\t61848\n",
      "59817\t59799\n",
      "64560\t65723\n",
      "61063\t57002\n",
      "78670\t78661\n",
      "90399\t91712\n",
      "44666\t44620\n"
     ]
    }
   ],
   "source": [
    "show_nearest_vertices(1, \"lh\")"
   ]
  },
  {
   "cell_type": "markdown",
   "metadata": {},
   "source": [
    "# Patient #3"
   ]
  },
  {
   "cell_type": "code",
   "execution_count": 5,
   "metadata": {
    "scrolled": false
   },
   "outputs": [
    {
     "name": "stdout",
     "output_type": "stream",
     "text": [
      "smoothwm_vertex\tpial_vertex\n",
      "32782\t32782\n",
      "36180\t36182\n",
      "34403\t33544\n",
      "35085\t34295\n",
      "38469\t38475\n",
      "45573\t45543\n",
      "54425\t54423\n",
      "64195\t55419\n",
      "72991\t72054\n",
      "82422\t82421\n",
      "45082\t44217\n",
      "41517\t43263\n",
      "45676\t45676\n",
      "42348\t42348\n",
      "44678\t44679\n",
      "54362\t53477\n",
      "64158\t64158\n",
      "72957\t72016\n",
      "80861\t81595\n",
      "73944\t71117\n"
     ]
    }
   ],
   "source": [
    "show_nearest_vertices(3, \"lh\")"
   ]
  },
  {
   "cell_type": "markdown",
   "metadata": {},
   "source": [
    "# Patient #4"
   ]
  },
  {
   "cell_type": "code",
   "execution_count": 6,
   "metadata": {
    "scrolled": true
   },
   "outputs": [
    {
     "name": "stdout",
     "output_type": "stream",
     "text": [
      "smoothwm_vertex\tpial_vertex\n",
      "82346\t82353\n",
      "79162\t79168\n",
      "74485\t73976\n",
      "67521\t67528\n",
      "83765\t83263\n",
      "81305\t80827\n",
      "76553\t75546\n",
      "72348\t72352\n",
      "55935\t55935\n",
      "53527\t53527\n",
      "54597\t55752\n",
      "46993\t46968\n",
      "45924\t45932\n",
      "43157\t43171\n",
      "62754\t62735\n",
      "63491\t62656\n",
      "60795\t61733\n",
      "101077\t101077\n",
      "54277\t52010\n",
      "53002\t51872\n",
      "79661\t79281\n",
      "76647\t76647\n",
      "72975\t71841\n",
      "67561\t65846\n",
      "103664\t84834\n",
      "103582\t82234\n",
      "75529\t74451\n",
      "64888\t64123\n"
     ]
    }
   ],
   "source": [
    "show_nearest_vertices(4, \"lh\")"
   ]
  },
  {
   "cell_type": "markdown",
   "metadata": {},
   "source": [
    "# Patient #6"
   ]
  },
  {
   "cell_type": "code",
   "execution_count": 7,
   "metadata": {
    "scrolled": false
   },
   "outputs": [
    {
     "name": "stdout",
     "output_type": "stream",
     "text": [
      "smoothwm_vertex\tpial_vertex\n",
      "99386\t97621\n",
      "98593\t100265\n",
      "129732\t129726\n",
      "100309\t101038\n",
      "120866\t106193\n",
      "101739\t101004\n",
      "129733\t129733\n",
      "100304\t101031\n",
      "92492\t92492\n",
      "101618\t100888\n",
      "107790\t107789\n",
      "110813\t110825\n",
      "121624\t121557\n",
      "121653\t122037\n",
      "110224\t110223\n",
      "121223\t121549\n",
      "121842\t121804\n",
      "94797\t93792\n",
      "95852\t91805\n",
      "92899\t93937\n",
      "101031\t129735\n",
      "101741\t129733\n",
      "121208\t121207\n"
     ]
    }
   ],
   "source": [
    "show_nearest_vertices(6, \"rh\")"
   ]
  },
  {
   "cell_type": "markdown",
   "metadata": {},
   "source": [
    "# Patient #7"
   ]
  },
  {
   "cell_type": "code",
   "execution_count": 8,
   "metadata": {
    "scrolled": true
   },
   "outputs": [
    {
     "name": "stdout",
     "output_type": "stream",
     "text": [
      "smoothwm_vertex\tpial_vertex\n",
      "99721\t54202\n",
      "64074\t66123\n",
      "74797\t71054\n",
      "81814\t81731\n",
      "48457\t48519\n",
      "59913\t63126\n",
      "99546\t99552\n",
      "76857\t76857\n",
      "40924\t40924\n",
      "52447\t51267\n",
      "61267\t61281\n",
      "69536\t68579\n",
      "78158\t77205\n",
      "82990\t82990\n",
      "83797\t83781\n",
      "57400\t58540\n",
      "67081\t66043\n",
      "74702\t72914\n",
      "83262\t83262\n",
      "49842\t51038\n",
      "57736\t56591\n",
      "68365\t67392\n",
      "75010\t75004\n",
      "69466\t68502\n",
      "78045\t77093\n"
     ]
    }
   ],
   "source": [
    "show_nearest_vertices(7, \"lh\")"
   ]
  },
  {
   "cell_type": "markdown",
   "metadata": {},
   "source": [
    "# Patient #8"
   ]
  },
  {
   "cell_type": "code",
   "execution_count": 9,
   "metadata": {
    "scrolled": true
   },
   "outputs": [
    {
     "name": "stdout",
     "output_type": "stream",
     "text": [
      "smoothwm_vertex\tpial_vertex\n",
      "88414\t87485\n",
      "79003\t77800\n",
      "69419\t69419\n",
      "61511\t61526\n",
      "82134\t82154\n",
      "72700\t72700\n",
      "62641\t61372\n",
      "54518\t53480\n",
      "92241\t92241\n",
      "81288\t81288\n",
      "75360\t75359\n",
      "62881\t65211\n",
      "84108\t78812\n",
      "68186\t68204\n",
      "58941\t58933\n",
      "48974\t48973\n"
     ]
    }
   ],
   "source": [
    "show_nearest_vertices(8, \"lh\")"
   ]
  },
  {
   "cell_type": "markdown",
   "metadata": {},
   "source": [
    "# Patient #10"
   ]
  },
  {
   "cell_type": "code",
   "execution_count": 10,
   "metadata": {
    "scrolled": true
   },
   "outputs": [
    {
     "name": "stdout",
     "output_type": "stream",
     "text": [
      "smoothwm_vertex\tpial_vertex\n",
      "76367\t77170\n",
      "68897\t67904\n",
      "133381\t60720\n",
      "59644\t58383\n",
      "64804\t65770\n",
      "56839\t59324\n",
      "54416\t54406\n",
      "45354\t48471\n",
      "114369\t114369\n",
      "108071\t108774\n",
      "101356\t100615\n",
      "94751\t94171\n",
      "90833\t90831\n",
      "83920\t83164\n",
      "114293\t114278\n",
      "110110\t110120\n",
      "102840\t102839\n",
      "93058\t93640\n",
      "90749\t90749\n",
      "86601\t85177\n",
      "82524\t84004\n",
      "75457\t74446\n",
      "60721\t59580\n",
      "60894\t59706\n"
     ]
    }
   ],
   "source": [
    "show_nearest_vertices(10, \"lh\")"
   ]
  },
  {
   "cell_type": "markdown",
   "metadata": {},
   "source": [
    "# Patient #11"
   ]
  },
  {
   "cell_type": "code",
   "execution_count": 11,
   "metadata": {},
   "outputs": [
    {
     "name": "stdout",
     "output_type": "stream",
     "text": [
      "smoothwm_vertex\tpial_vertex\n",
      "92109\t90128\n",
      "89194\t88197\n",
      "86437\t86412\n",
      "84692\t84676\n",
      "81141\t81166\n",
      "80139\t81286\n",
      "76960\t79088\n",
      "75961\t74903\n",
      "127719\t127158\n",
      "123144\t137430\n",
      "116807\t116806\n",
      "110821\t110206\n",
      "104282\t104991\n",
      "93831\t92949\n",
      "123825\t123247\n",
      "119281\t118531\n",
      "118291\t117538\n",
      "111301\t110746\n",
      "104253\t104262\n",
      "99185\t99203\n",
      "97440\t97439\n",
      "97564\t96620\n",
      "94125\t93216\n",
      "91433\t90452\n",
      "67199\t67221\n",
      "70390\t68027\n"
     ]
    }
   ],
   "source": [
    "show_nearest_vertices(11, \"lh\")"
   ]
  },
  {
   "cell_type": "markdown",
   "metadata": {},
   "source": [
    "# Patient #12"
   ]
  },
  {
   "cell_type": "code",
   "execution_count": 12,
   "metadata": {},
   "outputs": [
    {
     "name": "stdout",
     "output_type": "stream",
     "text": [
      "smoothwm_vertex\tpial_vertex\n",
      "105374\t106040\n",
      "103767\t103784\n",
      "102154\t101360\n",
      "100518\t100518\n",
      "96517\t96530\n",
      "94445\t133215\n",
      "90755\t89534\n",
      "89441\t88325\n",
      "81966\t84308\n",
      "83000\t83027\n",
      "77091\t78347\n",
      "78176\t78189\n",
      "74474\t74455\n",
      "73180\t73221\n",
      "110205\t109493\n",
      "108662\t108662\n",
      "105174\t105175\n",
      "105155\t104446\n",
      "133244\t101537\n",
      "96412\t96410\n",
      "95351\t93211\n",
      "91924\t91934\n",
      "89787\t89787\n",
      "86296\t87363\n",
      "85168\t86268\n",
      "85019\t83854\n"
     ]
    }
   ],
   "source": [
    "show_nearest_vertices(12, \"lh\")"
   ]
  },
  {
   "cell_type": "code",
   "execution_count": null,
   "metadata": {},
   "outputs": [],
   "source": []
  },
  {
   "cell_type": "code",
   "execution_count": null,
   "metadata": {},
   "outputs": [],
   "source": []
  }
 ],
 "metadata": {
  "anaconda-cloud": {},
  "kernelspec": {
   "display_name": "Python 3",
   "language": "python",
   "name": "python3"
  },
  "language_info": {
   "codemirror_mode": {
    "name": "ipython",
    "version": 3
   },
   "file_extension": ".py",
   "mimetype": "text/x-python",
   "name": "python",
   "nbconvert_exporter": "python",
   "pygments_lexer": "ipython3",
   "version": "3.7.3"
  }
 },
 "nbformat": 4,
 "nbformat_minor": 1
}
