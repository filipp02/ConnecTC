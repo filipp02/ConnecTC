{
 "cells": [
  {
   "cell_type": "code",
   "execution_count": 1,
   "metadata": {},
   "outputs": [],
   "source": [
    "import numpy as np\n",
    "import nibabel as nib\n",
    "import dipy.tracking.utils\n",
    "import dipy.tracking.streamline\n",
    "\n",
    "import re\n",
    "import os"
   ]
  },
  {
   "cell_type": "code",
   "execution_count": 3,
   "metadata": {
    "collapsed": true
   },
   "outputs": [],
   "source": [
    "patient_id = 10\n"
   ]
  },
  {
   "cell_type": "markdown",
   "metadata": {},
   "source": [
    "# All shortest streamlines in one file"
   ]
  },
  {
   "cell_type": "raw",
   "metadata": {},
   "source": [
    "root_path = \"/user/pfilipia/home/inria/chu_nice_inria/patients_dmri/\"\n",
    "\n",
    "streamlines_path = os.path.join(\n",
    "    root_path, \"patient%02d/bids/sub-patient%02d/ses-presurgical/connectivity/streamlines/\" % (\n",
    "    patient_id, patient_id\n",
    "))\n",
    "\n",
    "trk_file_pattern = \"s[0-9]+_e[0-9]+_diam10_in00.trk\"\n",
    "\n",
    "shortest_streamlines = []\n",
    "for file_name in os.listdir(streamlines_path):\n",
    "    \n",
    "    if re.search(trk_file_pattern, file_name):\n",
    "        \n",
    "        trk_file = nib.streamlines.load(os.path.join(streamlines_path, file_name))\n",
    "        streamlines_lengths = list(dipy.tracking.utils.length(trk_file.streamlines))\n",
    "        \n",
    "        if len(streamlines_lengths) > 0:\n",
    "            shortest_streamlines.append(trk_file.streamlines[np.argmin(streamlines_lengths)])\n",
    "        \n",
    "nib.streamlines.save(\n",
    "    nib.streamlines.Tractogram(shortest_streamlines, affine_to_rasmm=trk_file.affine), \n",
    "    \"shortest_streamlines_patient%02d.trk\" % patient_id\n",
    ")"
   ]
  },
  {
   "cell_type": "markdown",
   "metadata": {},
   "source": [
    "# One shortest streamline per file"
   ]
  },
  {
   "cell_type": "code",
   "execution_count": 5,
   "metadata": {
    "scrolled": true
   },
   "outputs": [
    {
     "name": "stdout",
     "output_type": "stream",
     "text": [
      "s01_e02_diam10_in00.trk\n",
      "s01_e13_diam10_in00.trk\n",
      "s02_e03_diam10_in00.trk\n",
      "s02_e14_diam10_in00.trk\n",
      "s03_e09_diam10_in00.trk\n",
      "s03_e11_diam10_in00.trk\n",
      "s03_e14_diam10_in00.trk\n",
      "s04_e07_diam10_in00.trk\n",
      "s04_e11_diam10_in00.trk\n",
      "s04_e12_diam10_in00.trk\n",
      "s04_e14_diam10_in00.trk\n",
      "s05_e02_diam10_in00.trk\n",
      "s05_e14_diam10_in00.trk\n",
      "s06_e01_diam10_in00.trk\n",
      "s06_e09_diam10_in00.trk\n",
      "s06_e10_diam10_in00.trk\n",
      "s06_e12_diam10_in00.trk\n",
      "s07_e02_diam10_in00.trk\n",
      "s07_e07_diam10_in00.trk\n",
      "s07_e10_diam10_in00.trk\n",
      "s07_e12_diam10_in00.trk\n",
      "s07_e13_diam10_in00.trk\n",
      "s08_e08_diam10_in00.trk\n",
      "s08_e10_diam10_in00.trk\n",
      "s09_e03_diam10_in00.trk\n",
      "s09_e04_diam10_in00.trk\n",
      "s09_e06_diam10_in00.trk\n",
      "s09_e08_diam10_in00.trk\n",
      "s09_e11_diam10_in00.trk\n"
     ]
    }
   ],
   "source": [
    "root_path = \"/user/pfilipia/home/inria/chu_nice_inria/patients_dmri/\"\n",
    "\n",
    "\n",
    "for patient_id in [6]:\n",
    "\n",
    "    streamlines_path = os.path.join(\n",
    "        root_path, \"patient%02d/bids/sub-patient%02d/ses-presurgical/connectivity/streamlines/\" % (\n",
    "        patient_id, patient_id\n",
    "    ))\n",
    "\n",
    "    trk_file_pattern = \"s[0-9]+_e[0-9]+_diam10_in00.trk\"\n",
    "\n",
    "    shortest_streamlines_dir = \"shortest_streamlines_patient%02d\" % patient_id\n",
    "\n",
    "    if not os.path.isdir(shortest_streamlines_dir):\n",
    "        os.mkdir(shortest_streamlines_dir)\n",
    "\n",
    "    for file_name in os.listdir(streamlines_path):\n",
    "\n",
    "        if not re.search(trk_file_pattern, file_name):\n",
    "            continue\n",
    "\n",
    "        print(file_name)\n",
    "\n",
    "        shortest_streamlines = []\n",
    "        trk_file = nib.streamlines.load(os.path.join(streamlines_path, file_name))\n",
    "        streamlines_lengths = list(dipy.tracking.utils.length(trk_file.streamlines))\n",
    "\n",
    "        if len(streamlines_lengths) > 0:\n",
    "            shortest_streamlines.append(trk_file.streamlines[np.argmin(streamlines_lengths)])\n",
    "\n",
    "        nib.streamlines.save(\n",
    "            nib.streamlines.Tractogram(shortest_streamlines, affine_to_rasmm=trk_file.affine), \n",
    "            os.path.join(shortest_streamlines_dir, file_name.replace(\".trk\", \".tck\"))\n",
    "        )"
   ]
  },
  {
   "cell_type": "markdown",
   "metadata": {},
   "source": [
    "# Convert TRKs to TCKs"
   ]
  },
  {
   "cell_type": "code",
   "execution_count": 2,
   "metadata": {
    "scrolled": false
   },
   "outputs": [
    {
     "name": "stdout",
     "output_type": "stream",
     "text": [
      "s07_e03_diam10_in00.trk\n",
      "s02_e04_diam10_in00.trk\n",
      "s02_e10_diam10_in00.trk\n",
      "s12_e06_diam10_in00.trk\n",
      "s05_e10_diam10_in00.trk\n",
      "s10_e09_diam10_in00.trk\n",
      "s03_e10_diam10_in00.trk\n",
      "s09_e02_diam10_in00.trk\n",
      "s01_e14_diam10_in00.trk\n",
      "s12_e12_diam10_in00.trk\n",
      "s01_e04_diam10_in00.trk\n",
      "s03_e01_diam10_in00.trk\n",
      "s10_e08_diam10_in00.trk\n",
      "s06_e08_diam10_in00.trk\n",
      "s10_e13_diam10_in00.trk\n",
      "s04_e03_diam10_in00.trk\n",
      "s03_e12_diam10_in00.trk\n",
      "s07_e08_diam10_in00.trk\n",
      "s02_e07_diam10_in00.trk\n",
      "s04_e13_diam10_in00.trk\n",
      "s12_e04_diam10_in00.trk\n",
      "s11_e09_diam10_in00.trk\n",
      "s09_e13_diam10_in00.trk\n",
      "s09_e01_diam10_in00.trk\n",
      "s06_e04_diam10_in00.trk\n",
      "s02_e05_diam10_in00.trk\n",
      "s04_e05_diam10_in00.trk\n",
      "s03_e02_diam10_in00.trk\n",
      "s11_e10_diam10_in00.trk\n",
      "s04_e04_diam10_in00.trk\n",
      "s05_e06_diam10_in00.trk\n",
      "s07_e06_diam10_in00.trk\n",
      "s08_e12_diam10_in00.trk\n",
      "s12_e13_diam10_in00.trk\n",
      "s01_e12_diam10_in00.trk\n",
      "s05_e09_diam10_in00.trk\n",
      "s01_e11_diam10_in00.trk\n"
     ]
    },
    {
     "ename": "KeyboardInterrupt",
     "evalue": "",
     "output_type": "error",
     "traceback": [
      "\u001b[0;31m---------------------------------------------------------------------------\u001b[0m",
      "\u001b[0;31mKeyboardInterrupt\u001b[0m                         Traceback (most recent call last)",
      "\u001b[0;32m<ipython-input-2-be63c327a1a1>\u001b[0m in \u001b[0;36m<module>\u001b[0;34m\u001b[0m\n\u001b[1;32m     30\u001b[0m         nib.streamlines.save(\n\u001b[1;32m     31\u001b[0m             \u001b[0mnib\u001b[0m\u001b[0;34m.\u001b[0m\u001b[0mstreamlines\u001b[0m\u001b[0;34m.\u001b[0m\u001b[0mTractogram\u001b[0m\u001b[0;34m(\u001b[0m\u001b[0mtrk_file\u001b[0m\u001b[0;34m.\u001b[0m\u001b[0mstreamlines\u001b[0m\u001b[0;34m,\u001b[0m \u001b[0maffine_to_rasmm\u001b[0m\u001b[0;34m=\u001b[0m\u001b[0mtrk_file\u001b[0m\u001b[0;34m.\u001b[0m\u001b[0maffine\u001b[0m\u001b[0;34m)\u001b[0m\u001b[0;34m,\u001b[0m\u001b[0;34m\u001b[0m\u001b[0;34m\u001b[0m\u001b[0m\n\u001b[0;32m---> 32\u001b[0;31m             \u001b[0mos\u001b[0m\u001b[0;34m.\u001b[0m\u001b[0mpath\u001b[0m\u001b[0;34m.\u001b[0m\u001b[0mjoin\u001b[0m\u001b[0;34m(\u001b[0m\u001b[0mtck_streamlines_path\u001b[0m\u001b[0;34m,\u001b[0m \u001b[0mfile_name\u001b[0m\u001b[0;34m.\u001b[0m\u001b[0mreplace\u001b[0m\u001b[0;34m(\u001b[0m\u001b[0;34m\".trk\"\u001b[0m\u001b[0;34m,\u001b[0m \u001b[0;34m\".tck\"\u001b[0m\u001b[0;34m)\u001b[0m\u001b[0;34m)\u001b[0m\u001b[0;34m\u001b[0m\u001b[0;34m\u001b[0m\u001b[0m\n\u001b[0m\u001b[1;32m     33\u001b[0m         )\n",
      "\u001b[0;32m~/anaconda3/lib/python3.7/site-packages/nibabel/streamlines/__init__.py\u001b[0m in \u001b[0;36msave\u001b[0;34m(tractogram, filename, **kwargs)\u001b[0m\n\u001b[1;32m    136\u001b[0m             \u001b[0;32mraise\u001b[0m \u001b[0mValueError\u001b[0m\u001b[0;34m(\u001b[0m\u001b[0mmsg\u001b[0m\u001b[0;34m)\u001b[0m\u001b[0;34m\u001b[0m\u001b[0;34m\u001b[0m\u001b[0m\n\u001b[1;32m    137\u001b[0m \u001b[0;34m\u001b[0m\u001b[0m\n\u001b[0;32m--> 138\u001b[0;31m     \u001b[0mtractogram_file\u001b[0m\u001b[0;34m.\u001b[0m\u001b[0msave\u001b[0m\u001b[0;34m(\u001b[0m\u001b[0mfilename\u001b[0m\u001b[0;34m)\u001b[0m\u001b[0;34m\u001b[0m\u001b[0;34m\u001b[0m\u001b[0m\n\u001b[0m",
      "\u001b[0;32m~/anaconda3/lib/python3.7/site-packages/nibabel/streamlines/tck.py\u001b[0m in \u001b[0;36msave\u001b[0;34m(self, fileobj)\u001b[0m\n\u001b[1;32m    235\u001b[0m             \u001b[0;31m# Add the EOF_DELIMITER.\u001b[0m\u001b[0;34m\u001b[0m\u001b[0;34m\u001b[0m\u001b[0;34m\u001b[0m\u001b[0m\n\u001b[1;32m    236\u001b[0m             \u001b[0mf\u001b[0m\u001b[0;34m.\u001b[0m\u001b[0mwrite\u001b[0m\u001b[0;34m(\u001b[0m\u001b[0masbytes\u001b[0m\u001b[0;34m(\u001b[0m\u001b[0mself\u001b[0m\u001b[0;34m.\u001b[0m\u001b[0mEOF_DELIMITER\u001b[0m\u001b[0;34m.\u001b[0m\u001b[0mtostring\u001b[0m\u001b[0;34m(\u001b[0m\u001b[0;34m)\u001b[0m\u001b[0;34m)\u001b[0m\u001b[0;34m)\u001b[0m\u001b[0;34m\u001b[0m\u001b[0;34m\u001b[0m\u001b[0m\n\u001b[0;32m--> 237\u001b[0;31m             \u001b[0mself\u001b[0m\u001b[0;34m.\u001b[0m\u001b[0m_finalize_header\u001b[0m\u001b[0;34m(\u001b[0m\u001b[0mf\u001b[0m\u001b[0;34m,\u001b[0m \u001b[0mheader\u001b[0m\u001b[0;34m,\u001b[0m \u001b[0moffset\u001b[0m\u001b[0;34m=\u001b[0m\u001b[0mbeginning\u001b[0m\u001b[0;34m)\u001b[0m\u001b[0;34m\u001b[0m\u001b[0;34m\u001b[0m\u001b[0m\n\u001b[0m\u001b[1;32m    238\u001b[0m \u001b[0;34m\u001b[0m\u001b[0m\n\u001b[1;32m    239\u001b[0m     \u001b[0;34m@\u001b[0m\u001b[0mstaticmethod\u001b[0m\u001b[0;34m\u001b[0m\u001b[0;34m\u001b[0m\u001b[0m\n",
      "\u001b[0;32m~/anaconda3/lib/python3.7/site-packages/nibabel/openers.py\u001b[0m in \u001b[0;36m__exit__\u001b[0;34m(self, exc_type, exc_val, exc_tb)\u001b[0m\n\u001b[1;32m    242\u001b[0m \u001b[0;34m\u001b[0m\u001b[0m\n\u001b[1;32m    243\u001b[0m     \u001b[0;32mdef\u001b[0m \u001b[0m__exit__\u001b[0m\u001b[0;34m(\u001b[0m\u001b[0mself\u001b[0m\u001b[0;34m,\u001b[0m \u001b[0mexc_type\u001b[0m\u001b[0;34m,\u001b[0m \u001b[0mexc_val\u001b[0m\u001b[0;34m,\u001b[0m \u001b[0mexc_tb\u001b[0m\u001b[0;34m)\u001b[0m\u001b[0;34m:\u001b[0m\u001b[0;34m\u001b[0m\u001b[0;34m\u001b[0m\u001b[0m\n\u001b[0;32m--> 244\u001b[0;31m         \u001b[0mself\u001b[0m\u001b[0;34m.\u001b[0m\u001b[0mclose_if_mine\u001b[0m\u001b[0;34m(\u001b[0m\u001b[0;34m)\u001b[0m\u001b[0;34m\u001b[0m\u001b[0;34m\u001b[0m\u001b[0m\n\u001b[0m\u001b[1;32m    245\u001b[0m \u001b[0;34m\u001b[0m\u001b[0m\n\u001b[1;32m    246\u001b[0m \u001b[0;34m\u001b[0m\u001b[0m\n",
      "\u001b[0;32m~/anaconda3/lib/python3.7/site-packages/nibabel/openers.py\u001b[0m in \u001b[0;36mclose_if_mine\u001b[0;34m(self)\u001b[0m\n\u001b[1;32m    236\u001b[0m         \"\"\"\n\u001b[1;32m    237\u001b[0m         \u001b[0;32mif\u001b[0m \u001b[0mself\u001b[0m\u001b[0;34m.\u001b[0m\u001b[0mme_opened\u001b[0m\u001b[0;34m:\u001b[0m\u001b[0;34m\u001b[0m\u001b[0;34m\u001b[0m\u001b[0m\n\u001b[0;32m--> 238\u001b[0;31m             \u001b[0mself\u001b[0m\u001b[0;34m.\u001b[0m\u001b[0mclose\u001b[0m\u001b[0;34m(\u001b[0m\u001b[0;34m)\u001b[0m\u001b[0;34m\u001b[0m\u001b[0;34m\u001b[0m\u001b[0m\n\u001b[0m\u001b[1;32m    239\u001b[0m \u001b[0;34m\u001b[0m\u001b[0m\n\u001b[1;32m    240\u001b[0m     \u001b[0;32mdef\u001b[0m \u001b[0m__enter__\u001b[0m\u001b[0;34m(\u001b[0m\u001b[0mself\u001b[0m\u001b[0;34m)\u001b[0m\u001b[0;34m:\u001b[0m\u001b[0;34m\u001b[0m\u001b[0;34m\u001b[0m\u001b[0m\n",
      "\u001b[0;32m~/anaconda3/lib/python3.7/site-packages/nibabel/openers.py\u001b[0m in \u001b[0;36mclose\u001b[0;34m(self, *args, **kwargs)\u001b[0m\n\u001b[1;32m    227\u001b[0m \u001b[0;34m\u001b[0m\u001b[0m\n\u001b[1;32m    228\u001b[0m     \u001b[0;32mdef\u001b[0m \u001b[0mclose\u001b[0m\u001b[0;34m(\u001b[0m\u001b[0mself\u001b[0m\u001b[0;34m,\u001b[0m \u001b[0;34m*\u001b[0m\u001b[0margs\u001b[0m\u001b[0;34m,\u001b[0m \u001b[0;34m**\u001b[0m\u001b[0mkwargs\u001b[0m\u001b[0;34m)\u001b[0m\u001b[0;34m:\u001b[0m\u001b[0;34m\u001b[0m\u001b[0;34m\u001b[0m\u001b[0m\n\u001b[0;32m--> 229\u001b[0;31m         \u001b[0;32mreturn\u001b[0m \u001b[0mself\u001b[0m\u001b[0;34m.\u001b[0m\u001b[0mfobj\u001b[0m\u001b[0;34m.\u001b[0m\u001b[0mclose\u001b[0m\u001b[0;34m(\u001b[0m\u001b[0;34m*\u001b[0m\u001b[0margs\u001b[0m\u001b[0;34m,\u001b[0m \u001b[0;34m**\u001b[0m\u001b[0mkwargs\u001b[0m\u001b[0;34m)\u001b[0m\u001b[0;34m\u001b[0m\u001b[0;34m\u001b[0m\u001b[0m\n\u001b[0m\u001b[1;32m    230\u001b[0m \u001b[0;34m\u001b[0m\u001b[0m\n\u001b[1;32m    231\u001b[0m     \u001b[0;32mdef\u001b[0m \u001b[0m__iter__\u001b[0m\u001b[0;34m(\u001b[0m\u001b[0mself\u001b[0m\u001b[0;34m)\u001b[0m\u001b[0;34m:\u001b[0m\u001b[0;34m\u001b[0m\u001b[0;34m\u001b[0m\u001b[0m\n",
      "\u001b[0;31mKeyboardInterrupt\u001b[0m: "
     ]
    }
   ],
   "source": [
    "root_path = \"/user/pfilipia/home/inria/chu_nice_inria/patients_dmri/\"\n",
    "\n",
    "\n",
    "for patient_id in [11, 12]:\n",
    "\n",
    "    streamlines_path = os.path.join(\n",
    "        root_path, \"patient%02d/bids/sub-patient%02d/ses-presurgical/connectivity/streamlines/\" % (\n",
    "        patient_id, patient_id\n",
    "    ))\n",
    "\n",
    "    trk_file_pattern = \"s[0-9]+_e[0-9]+_diam10_in00.trk\"\n",
    "\n",
    "    tck_streamlines_path = os.path.join(\n",
    "        root_path, \"patient%02d/bids/sub-patient%02d/ses-presurgical/connectivity/tck_streamlines/\" % (\n",
    "        patient_id, patient_id\n",
    "    ))\n",
    "\n",
    "    if not os.path.isdir(tck_streamlines_path):\n",
    "        os.mkdir(tck_streamlines_path)\n",
    "\n",
    "    for file_name in os.listdir(streamlines_path):\n",
    "\n",
    "        if not re.search(trk_file_pattern, file_name):\n",
    "            continue\n",
    "\n",
    "        print(file_name)\n",
    "\n",
    "        trk_file = nib.streamlines.load(os.path.join(streamlines_path, file_name))\n",
    "\n",
    "        nib.streamlines.save(\n",
    "            nib.streamlines.Tractogram(trk_file.streamlines, affine_to_rasmm=trk_file.affine), \n",
    "            os.path.join(tck_streamlines_path, file_name.replace(\".trk\", \".tck\"))\n",
    "        )"
   ]
  },
  {
   "cell_type": "code",
   "execution_count": null,
   "metadata": {
    "collapsed": true
   },
   "outputs": [],
   "source": []
  },
  {
   "cell_type": "code",
   "execution_count": null,
   "metadata": {
    "collapsed": true
   },
   "outputs": [],
   "source": []
  },
  {
   "cell_type": "code",
   "execution_count": null,
   "metadata": {
    "collapsed": true
   },
   "outputs": [],
   "source": []
  }
 ],
 "metadata": {
  "anaconda-cloud": {},
  "kernelspec": {
   "display_name": "Python 3",
   "language": "python",
   "name": "python3"
  },
  "language_info": {
   "codemirror_mode": {
    "name": "ipython",
    "version": 3
   },
   "file_extension": ".py",
   "mimetype": "text/x-python",
   "name": "python",
   "nbconvert_exporter": "python",
   "pygments_lexer": "ipython3",
   "version": "3.7.3"
  }
 },
 "nbformat": 4,
 "nbformat_minor": 1
}
