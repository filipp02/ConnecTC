{
 "cells": [
  {
   "cell_type": "code",
   "execution_count": 1,
   "metadata": {
    "collapsed": false
   },
   "outputs": [
    {
     "name": "stderr",
     "output_type": "stream",
     "text": [
      "/home/patrykfi/anaconda3/lib/python3.5/site-packages/h5py/__init__.py:36: FutureWarning: Conversion of the second argument of issubdtype from `float` to `np.floating` is deprecated. In future, it will be treated as `np.float64 == np.dtype(float).type`.\n",
      "  from ._conv import register_converters as _register_converters\n"
     ]
    }
   ],
   "source": [
    "import numpy as np\n",
    "import pandas as pd\n",
    "import nibabel as nib\n",
    "import pickle\n",
    "import os.path\n",
    "\n",
    "from dipy.io import read_bvals_bvecs\n",
    "from dipy.core.gradients import gradient_table\n",
    "from dipy.segment.mask import median_otsu\n",
    "from dipy.reconst.csdeconv import (ConstrainedSphericalDeconvModel, auto_response)\n",
    "from dipy.data import get_sphere\n",
    "from dipy.direction import peaks_from_model\n",
    "from dipy.reconst.dti import TensorModel\n",
    "from dipy.tracking.local import LocalTracking, ThresholdTissueClassifier\n",
    "from dipy.tracking.streamline import Streamlines\n",
    "from dipy.tracking.utils import random_seeds_from_mask\n",
    "\n",
    "from nibabel.streamlines import save as save_trk\n",
    "from nibabel.streamlines import Tractogram\n",
    "\n",
    "\n",
    "root_path = \"/user/pfilipia/home/inria/chu_nice_inria/patients_dmri/\"\n",
    "\n",
    "\n",
    "def get_patient_path(patient_id):\n",
    "    return os.path.join(\n",
    "        root_path,\n",
    "        \"patient%02d/bids/sub-patient%02d/ses-presurgical/\" % (patient_id, patient_id)\n",
    "    )\n",
    "\n",
    "def get_patient_file_prefix(patient_id):\n",
    "    return \"sub-patient%02d_ses-presurgical_dwi\" % patient_id\n",
    "\n",
    "def get_rois_file(patient_id):\n",
    "    return os.path.join(\n",
    "        get_patient_path(patient_id), 'connectivity', 'rois.csv'\n",
    "    )\n",
    "\n",
    "def get_dwi_file(patient_id):\n",
    "    return os.path.join(\n",
    "        get_patient_path(patient_id), 'proc_local',\n",
    "        get_patient_file_prefix(patient_id) + '.nii.gz'\n",
    "    )\n",
    "\n",
    "def get_bvals_file(patient_id):\n",
    "    return os.path.join(\n",
    "        get_patient_path(patient_id), 'proc_local',\n",
    "        get_patient_file_prefix(patient_id) + '.bval'\n",
    "    )\n",
    "\n",
    "def get_bvecs_file(patient_id):\n",
    "    return os.path.join(\n",
    "        get_patient_path(patient_id), 'proc_local',\n",
    "        get_patient_file_prefix(patient_id) + '.bvec'\n",
    "    )\n",
    "\n",
    "def load_dwi_data(patient_id):\n",
    "    img = nib.load(get_dwi_file(patient_id))\n",
    "\n",
    "    bvals, bvecs = read_bvals_bvecs(\n",
    "        get_bvals_file(patient_id), get_bvecs_file(patient_id)\n",
    "    )\n",
    "\n",
    "    return img.get_data(), img.affine, gradient_table(bvals, bvecs)\n",
    "\n",
    "\n",
    "def add_spherical_roi(mask, center_x, center_y, center_z, diameter):\n",
    "    radius = diameter / 2\n",
    "    radius_sqr = radius * radius\n",
    "\n",
    "    for z in np.arange(-radius, radius + 1):\n",
    "        for y in np.arange(-radius, radius + 1):\n",
    "            for x in np.arange(-radius, radius + 1):\n",
    "                mask[int(center_x + x), int(center_y + y), int(center_z + z)] = x * x + y * y + z * z <= radius_sqr\n"
   ]
  },
  {
   "cell_type": "code",
   "execution_count": 1,
   "metadata": {
    "collapsed": false
   },
   "outputs": [
    {
     "name": "stderr",
     "output_type": "stream",
     "text": [
      "/home/patrykfi/anaconda3/lib/python3.5/site-packages/h5py/__init__.py:36: FutureWarning: Conversion of the second argument of issubdtype from `float` to `np.floating` is deprecated. In future, it will be treated as `np.float64 == np.dtype(float).type`.\n",
      "  from ._conv import register_converters as _register_converters\n"
     ]
    }
   ],
   "source": [
    "patient_id = 1\n",
    "\n",
    "dwi_data, dwi_affine, gtab = load_dwi_data(patient_id)\n",
    "rois_pd = pd.read_csv(get_rois_file(patient_id))\n",
    "\n",
    "\n",
    "dwi_data_masked, brain_mask = median_otsu(dwi_data)\n"
   ]
  },
  {
   "cell_type": "code",
   "execution_count": 2,
   "metadata": {
    "collapsed": false
   },
   "outputs": [
    {
     "name": "stderr",
     "output_type": "stream",
     "text": [
      "/home/patrykfi/anaconda3/lib/python3.5/site-packages/dipy/reconst/csdeconv.py:162: FutureWarning: `rcond` parameter will change to the default of machine precision times ``max(M, N)`` where M and N are the input matrix dimensions.\n",
      "To use the future default and silence this warning we advise to pass `rcond=None`, to keep using the old, explicitly pass `rcond=-1`.\n",
      "  r_sh = np.linalg.lstsq(self.B_dwi, self.S_r[self._where_dwi])[0]\n",
      "/home/patrykfi/anaconda3/lib/python3.5/site-packages/dipy/reconst/csdeconv.py:586: UserWarning: maximum number of iterations exceeded - failed to converge\n",
      "  warnings.warn(msg)\n"
     ]
    }
   ],
   "source": [
    "# --- probabilistic tractography (from PMF) ---\n",
    "\n",
    "csd_model = ConstrainedSphericalDeconvModel(gtab, None, sh_order=6)\n",
    "csd_fit = csd_model.fit(dwi_data, mask=brain_mask)\n",
    "\n",
    "from dipy.reconst.shm import CsaOdfModel\n",
    "\n",
    "csa_model = CsaOdfModel(gtab, sh_order=6)\n",
    "gfa = csa_model.fit(dwi_data, mask=brain_mask).gfa\n",
    "tissue_classifier = ThresholdTissueClassifier(gfa, .25)\n",
    "\n",
    "from dipy.direction import ProbabilisticDirectionGetter\n",
    "from dipy.data import small_sphere\n",
    "\n",
    "fod = csd_fit.odf(small_sphere)\n",
    "pmf = fod.clip(min=0)\n",
    "# prob_dg = ProbabilisticDirectionGetter.from_pmf(pmf, max_angle=30.,\n",
    "#                                                 sphere=small_sphere)\n",
    "\n",
    "diameter = 5\n",
    "\n",
    "for stimulation_site_record in rois_pd[rois_pd['label'].str.contains('s')].iterrows():\n",
    "    generated_mask = np.zeros_like(dwi_data[..., 0])\n",
    "    add_spherical_roi(\n",
    "        generated_mask,\n",
    "        stimulation_site_record[1]['dwi_x'],\n",
    "        stimulation_site_record[1]['dwi_y'],\n",
    "        stimulation_site_record[1]['dwi_z'],\n",
    "        diameter\n",
    "    )\n",
    "    \n",
    "    break\n",
    "\n",
    "    seeds = random_seeds_from_mask(generated_mask, seeds_count=2)\n",
    "    # seeds = utils.seeds_from_mask(generated_mask, density=1, affine=dwi_affine)\n",
    "\n",
    "    streamlines_generator = LocalTracking(prob_dg, tissue_classifier, seeds, affine=np.eye(4), step_size=0.5)\n",
    "    streamlines = Streamlines(streamlines_generator)\n",
    "\n",
    "    from dipy.tracking import utils\n",
    "\n",
    "    for electrode_record in rois_pd[rois_pd['label'].str.contains('e')].iterrows():\n",
    "        target_mask = np.zeros_like(dwi_data[..., 0])\n",
    "        add_spherical_roi(\n",
    "            target_mask,\n",
    "            electrode_record[1]['dwi_x'],\n",
    "            electrode_record[1]['dwi_y'],\n",
    "            electrode_record[1]['dwi_z'],\n",
    "            diameter\n",
    "        )\n",
    "\n",
    "        target_streamlines = utils.target(streamlines, target_mask, affine=np.eye(4))\n",
    "        target_streamlines = Streamlines(target_streamlines)\n",
    "\n",
    "        print(\"%s -> %s: %d\" % (stimulation_site_record[1]['label'], electrode_record[1]['label'], len(target_streamlines)))\n",
    "        break\n"
   ]
  },
  {
   "cell_type": "code",
   "execution_count": 25,
   "metadata": {
    "collapsed": false
   },
   "outputs": [
    {
     "name": "stdout",
     "output_type": "stream",
     "text": [
      "s00, e01, 94, 14.0, 98.8, 291.0\n"
     ]
    }
   ],
   "source": [
    "diameter = 5\n",
    "\n",
    "for stimulation_site_record in rois_pd[rois_pd['label'].str.contains('s')].iterrows():\n",
    "    generated_mask = np.zeros_like(dwi_data[..., 0])\n",
    "    add_spherical_roi(\n",
    "        generated_mask,\n",
    "        stimulation_site_record[1]['dwi_x'],\n",
    "        stimulation_site_record[1]['dwi_y'],\n",
    "        stimulation_site_record[1]['dwi_z'],\n",
    "        diameter\n",
    "    )\n",
    "\n",
    "    seeds = random_seeds_from_mask(generated_mask, seeds_count=2)\n",
    "    # seeds = utils.seeds_from_mask(generated_mask, density=1, affine=dwi_affine)\n",
    "\n",
    "    streamlines_generator = LocalTracking(prob_dg, tissue_classifier, seeds, affine=np.eye(4), step_size=0.5)\n",
    "    streamlines = Streamlines(streamlines_generator)\n",
    "\n",
    "    from dipy.tracking import utils\n",
    "    from dipy.tracking.utils import length\n",
    "\n",
    "    for electrode_record in rois_pd[rois_pd['label'].str.contains('e')].iterrows():\n",
    "        target_mask = np.zeros_like(dwi_data[..., 0])\n",
    "        add_spherical_roi(\n",
    "            target_mask,\n",
    "            electrode_record[1]['dwi_x'],\n",
    "            electrode_record[1]['dwi_y'],\n",
    "            electrode_record[1]['dwi_z'],\n",
    "            diameter\n",
    "        )\n",
    "\n",
    "        target_streamlines = utils.target(streamlines, target_mask, affine=np.eye(4))\n",
    "        target_streamlines = Streamlines(target_streamlines)\n",
    "        lengths = np.array(list(length(target_streamlines)))\n",
    "        \n",
    "        print(\n",
    "            \"%s, %s, %d, %.1f, %.1f, %.1f\" % (\n",
    "                stimulation_site_record[1]['label'], electrode_record[1]['label'], len(target_streamlines),\n",
    "                np.min(lengths), np.mean(lengths), np.max(lengths)\n",
    "            )\n",
    "        )\n",
    "        break\n",
    "    break\n"
   ]
  },
  {
   "cell_type": "code",
   "execution_count": 2,
   "metadata": {
    "collapsed": false
   },
   "outputs": [
    {
     "ename": "NameError",
     "evalue": "name 'dwi_data' is not defined",
     "output_type": "error",
     "traceback": [
      "\u001b[0;31m---------------------------------------------------------------------------\u001b[0m",
      "\u001b[0;31mNameError\u001b[0m                                 Traceback (most recent call last)",
      "\u001b[0;32m<ipython-input-2-409526ba3673>\u001b[0m in \u001b[0;36m<module>\u001b[0;34m()\u001b[0m\n\u001b[1;32m      1\u001b[0m \u001b[0mdiameter\u001b[0m \u001b[0;34m=\u001b[0m \u001b[0;36m5\u001b[0m\u001b[0;34m\u001b[0m\u001b[0m\n\u001b[1;32m      2\u001b[0m \u001b[0;34m\u001b[0m\u001b[0m\n\u001b[0;32m----> 3\u001b[0;31m \u001b[0mgenerated_mask\u001b[0m \u001b[0;34m=\u001b[0m \u001b[0mnp\u001b[0m\u001b[0;34m.\u001b[0m\u001b[0mzeros_like\u001b[0m\u001b[0;34m(\u001b[0m\u001b[0mdwi_data\u001b[0m\u001b[0;34m[\u001b[0m\u001b[0;34m...\u001b[0m\u001b[0;34m,\u001b[0m \u001b[0;36m0\u001b[0m\u001b[0;34m]\u001b[0m\u001b[0;34m)\u001b[0m\u001b[0;34m\u001b[0m\u001b[0m\n\u001b[0m\u001b[1;32m      4\u001b[0m add_spherical_roi(\n\u001b[1;32m      5\u001b[0m     \u001b[0mgenerated_mask\u001b[0m\u001b[0;34m,\u001b[0m\u001b[0;34m\u001b[0m\u001b[0m\n",
      "\u001b[0;31mNameError\u001b[0m: name 'dwi_data' is not defined"
     ]
    }
   ],
   "source": [
    "diameter = 5\n",
    "\n",
    "generated_mask = np.zeros_like(dwi_data[..., 0])\n",
    "add_spherical_roi(\n",
    "    generated_mask,\n",
    "    stimulation_site_record[1]['dwi_x'],\n",
    "    stimulation_site_record[1]['dwi_y'],\n",
    "    stimulation_site_record[1]['dwi_z'],\n",
    "    diameter\n",
    ")\n"
   ]
  },
  {
   "cell_type": "code",
   "execution_count": 6,
   "metadata": {
    "collapsed": false
   },
   "outputs": [
    {
     "data": {
      "text/plain": [
       "515.0"
      ]
     },
     "execution_count": 6,
     "metadata": {},
     "output_type": "execute_result"
    }
   ],
   "source": [
    "np.sum(generated_mask)"
   ]
  },
  {
   "cell_type": "code",
   "execution_count": 23,
   "metadata": {
    "collapsed": false
   },
   "outputs": [],
   "source": [
    "import numpy.linalg as npl\n",
    "\n",
    "def shift_point_inwards(x, y, z, affine, dist):\n",
    "    world_coords = np.array(apply_affine(affine, [x, y, z]))\n",
    "    world_coords *= 1 - dist / np.sqrt(np.sum(world_coords ** 2))\n",
    "    shifted_coords = np.round(apply_affine(npl.inv(affine), world_coords))\n",
    "    return (int)(shifted_coords[0]), (int)(shifted_coords[1]), (int)(shifted_coords[2])"
   ]
  },
  {
   "cell_type": "code",
   "execution_count": 5,
   "metadata": {
    "collapsed": true
   },
   "outputs": [],
   "source": [
    "from nibabel.affines import apply_affine\n",
    "img, affine, gtab = load_dwi_data(1)"
   ]
  },
  {
   "cell_type": "code",
   "execution_count": 24,
   "metadata": {
    "collapsed": false
   },
   "outputs": [
    {
     "data": {
      "text/plain": [
       "(183, 78, 20)"
      ]
     },
     "execution_count": 24,
     "metadata": {},
     "output_type": "execute_result"
    }
   ],
   "source": [
    "dwi_coords = [188, 77, 19]\n",
    "shift_point_inwards(dwi_coords[0], dwi_coords[1], dwi_coords[2], affine, 5)\n"
   ]
  },
  {
   "cell_type": "code",
   "execution_count": 12,
   "metadata": {
    "collapsed": true
   },
   "outputs": [],
   "source": [
    "\n",
    "inv_affine = npl.inv(affine)"
   ]
  },
  {
   "cell_type": "code",
   "execution_count": 13,
   "metadata": {
    "collapsed": false
   },
   "outputs": [
    {
     "data": {
      "text/plain": [
       "array([188.,  77.,  19.])"
      ]
     },
     "execution_count": 13,
     "metadata": {},
     "output_type": "execute_result"
    }
   ],
   "source": [
    "apply_affine(inv_affine, [-57.85783141,  -9.86705371, -18.68368752])"
   ]
  }
 ],
 "metadata": {
  "anaconda-cloud": {},
  "kernelspec": {
   "display_name": "Python [conda env:anaconda3]",
   "language": "python",
   "name": "conda-env-anaconda3-py"
  },
  "language_info": {
   "codemirror_mode": {
    "name": "ipython",
    "version": 3
   },
   "file_extension": ".py",
   "mimetype": "text/x-python",
   "name": "python",
   "nbconvert_exporter": "python",
   "pygments_lexer": "ipython3",
   "version": "3.5.2"
  }
 },
 "nbformat": 4,
 "nbformat_minor": 1
}
